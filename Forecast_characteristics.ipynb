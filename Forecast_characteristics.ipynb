{
 "cells": [
  {
   "cell_type": "markdown",
   "id": "97fb2dea",
   "metadata": {},
   "source": [
    "## ISO NE LMPs\n",
    "\n",
    "### What characteristics does it have?"
   ]
  },
  {
   "cell_type": "code",
   "execution_count": null,
   "id": "0cb326f6",
   "metadata": {},
   "outputs": [],
   "source": [
    "import pandas as pd\n",
    "import plotly.express as px"
   ]
  },
  {
   "cell_type": "markdown",
   "id": "d64ada84",
   "metadata": {},
   "source": [
    "## Import LMP Data"
   ]
  },
  {
   "cell_type": "code",
   "execution_count": null,
   "id": "dce17b99",
   "metadata": {},
   "outputs": [],
   "source": [
    "LMP_locations = [\"ISO NE CA\", \"ME\", \"NH\", \"VT\", \"CT\", \"RI\", \"SEMA\", \"WCMA\", \"NEMA\"]\n",
    "\n",
    "df = pd.read_excel(\"forecasting_error/data_ISO_NE/2023_smd_hourly.xlsx\", sheet_name=LMP_locations, usecols=[\"DA_LMP\"])\n",
    "date = pd.read_excel(\"forecasting_error/data_ISO_NE/2023_smd_hourly.xlsx\", sheet_name=\"ISO NE CA\", usecols=[\"Date\", \"Hr_End\"]) "
   ]
  },
  {
   "cell_type": "markdown",
   "id": "1f8bb94a",
   "metadata": {},
   "source": [
    "## Merge all the LMPs into single dataframe"
   ]
  },
  {
   "cell_type": "code",
   "execution_count": null,
   "id": "944df23d",
   "metadata": {},
   "outputs": [],
   "source": [
    "LMP = pd.DataFrame()\n",
    "\n",
    "for location in LMP_locations:\n",
    "    LMP[location] = df[location]\n",
    "    \n",
    "LMP.set_index(pd.to_datetime(date[\"Date\"].astype(str) + \" \" + (date[\"Hr_End\"] - 1).astype(str) + \":0:0\"), inplace=True)\n",
    "LMP"
   ]
  },
  {
   "cell_type": "markdown",
   "id": "7c375472",
   "metadata": {},
   "source": [
    "## Look at different LMP is ISO NE"
   ]
  },
  {
   "cell_type": "code",
   "execution_count": null,
   "id": "72fdaf25",
   "metadata": {},
   "outputs": [],
   "source": [
    "px.line(LMP)"
   ]
  },
  {
   "cell_type": "markdown",
   "id": "dd67de60",
   "metadata": {},
   "source": [
    "## Make a 7-day forecast of LMP with Prophet\n",
    "### Use ISO NE CA LMP data"
   ]
  },
  {
   "cell_type": "code",
   "execution_count": null,
   "id": "e66cfaaa",
   "metadata": {},
   "outputs": [],
   "source": []
  }
 ],
 "metadata": {
  "kernelspec": {
   "display_name": "Python 3",
   "language": "python",
   "name": "python3"
  },
  "language_info": {
   "codemirror_mode": {
    "name": "ipython",
    "version": 3
   },
   "file_extension": ".py",
   "mimetype": "text/x-python",
   "name": "python",
   "nbconvert_exporter": "python",
   "pygments_lexer": "ipython3",
   "version": "3.7.6"
  }
 },
 "nbformat": 4,
 "nbformat_minor": 5
}
