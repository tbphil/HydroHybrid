{
 "cells": [
  {
   "cell_type": "code",
   "execution_count": 1,
   "id": "d2c4707f",
   "metadata": {},
   "outputs": [],
   "source": [
    "import pandas as pd\n",
    "import numpy as np"
   ]
  },
  {
   "cell_type": "code",
   "execution_count": 27,
   "id": "690f5719",
   "metadata": {},
   "outputs": [
    {
     "data": {
      "text/plain": [
       "2.4445113542152397"
      ]
     },
     "execution_count": 27,
     "metadata": {},
     "output_type": "execute_result"
    }
   ],
   "source": [
    "df = pd.read_csv(\"results/Results_14day_training_50_cap_20_floor_with_regressor_True.csv\")\n",
    "df.drop(columns=[\"2019-12-31\", \"Unnamed: 0\"], inplace=True)\n",
    "df_at_time = df.diff()\n",
    "df_at_time.std().mean()"
   ]
  },
  {
   "cell_type": "code",
   "execution_count": 31,
   "id": "89a53eeb",
   "metadata": {},
   "outputs": [
    {
     "data": {
      "text/plain": [
       "array([[ 0.12666956,  6.37105305,  1.45258837,  1.01907695, -1.30988711],\n",
       "       [-1.5372785 , -2.93509022,  1.40233587,  1.96350475,  2.27946326]])"
      ]
     },
     "execution_count": 31,
     "metadata": {},
     "output_type": "execute_result"
    }
   ],
   "source": [
    "np.random.normal(df_at_time.mean().mean(), df_at_time.std().mean(), (2, 5))"
   ]
  },
  {
   "cell_type": "code",
   "execution_count": null,
   "id": "0c638e19",
   "metadata": {},
   "outputs": [],
   "source": []
  }
 ],
 "metadata": {
  "kernelspec": {
   "display_name": "Python 3",
   "language": "python",
   "name": "python3"
  },
  "language_info": {
   "codemirror_mode": {
    "name": "ipython",
    "version": 3
   },
   "file_extension": ".py",
   "mimetype": "text/x-python",
   "name": "python",
   "nbconvert_exporter": "python",
   "pygments_lexer": "ipython3",
   "version": "3.7.6"
  }
 },
 "nbformat": 4,
 "nbformat_minor": 5
}
